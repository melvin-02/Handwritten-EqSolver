{
 "cells": [
  {
   "cell_type": "code",
   "execution_count": 1,
   "metadata": {},
   "outputs": [],
   "source": [
    "import tensorflow as tf\n",
    "import cv2\n",
    "import numpy as np\n",
    "import matplotlib.pyplot as plt"
   ]
  },
  {
   "cell_type": "code",
   "execution_count": 2,
   "metadata": {},
   "outputs": [],
   "source": [
    "# Function to remove any unnecessory small blobs\n",
    "def remove_small_contours(rects):\n",
    "    for i, (x,y,w,h) in enumerate(rects):\n",
    "        if w*h < 50 :\n",
    "            rects.pop(i)\n",
    "    return rects"
   ]
  },
  {
   "cell_type": "code",
   "execution_count": 3,
   "metadata": {},
   "outputs": [],
   "source": [
    "def label(one_hot_arr):\n",
    "    labels = '+ - 0 1 2 3 4 5 6 7 8 9 / *'.split()\n",
    "    index = np.argmax(one_hot_arr)\n",
    "    return labels[index]"
   ]
  },
  {
   "cell_type": "code",
   "execution_count": 30,
   "metadata": {},
   "outputs": [],
   "source": [
    "img = cv2.imread(\"numbers3.jpg\")\n",
    "img = cv2.resize(img, (300,256), interpolation=cv2.INTER_AREA)\n",
    "gray = cv2.cvtColor(img, cv2.COLOR_BGR2GRAY)\n",
    "\n",
    "# The images in the dataset have white background and black color for the digtis\n",
    "# However its much more efficient to find contours on an image with BLACK BACKGROUND\n",
    "# so we threshold the image in both BINARY(black img, white bg) and BINARY_INV(white img, black bg) and\n",
    "# detect contours on \"threshInv\" and perform model prediction on \"thresh\"\n",
    "_, threshInv = cv2.threshold(gray, 120, 255, cv2.THRESH_BINARY_INV)\n",
    "_, thresh = cv2.threshold(gray,120, 255, cv2.THRESH_BINARY)\n",
    "contours, _ = cv2.findContours(threshInv, cv2.RETR_EXTERNAL, cv2.CHAIN_APPROX_SIMPLE)\n",
    "\n",
    "preprocessed_digits = []\n",
    "\n",
    "# Put all the rectangle coordinates of the contours in a list\n",
    "rects = []\n",
    "for c in contours:\n",
    "    rects.append(cv2.boundingRect(c))\n",
    "    \n",
    "# remove small blobs if any    \n",
    "processed_contours = remove_small_contours(rects)\n",
    "# sort the contours from left to right so that the model predicts the digtis/operators in order\n",
    "sorted_contours = sorted(processed_contours)\n",
    "\n",
    "for (x,y,w,h) in sorted_contours:\n",
    "    # speical case for - sign. Pad top and bottom \n",
    "    if w>2*h:\n",
    "        cv2.rectangle(img, (x,y), (x+w,y+h), (0,255,0), 2)\n",
    "        digit = thresh[y:y+h, x:x+w]\n",
    "        padded_digit = np.pad(digit, ((15,15),(0,0)), mode='constant', constant_values=255)\n",
    "        padded_digit = cv2.resize(padded_digit, (32,32), interpolation=cv2.INTER_AREA)\n",
    "        \n",
    "    else:\n",
    "        cv2.rectangle(img, (x,y), (x+w,y+h), (0,255,0), 2)\n",
    "        # extract the digit\n",
    "        digit = thresh[y:y+h, x:x+w]\n",
    "        # pad some white pixels to the extracted image for better prediction results\n",
    "        resized_digit = cv2.resize(digit, (26,26), interpolation=cv2.INTER_AREA)\n",
    "        padded_digit = np.pad(resized_digit, ((3,3),(3,3)), mode='constant', constant_values=255)\n",
    "    \n",
    "    preprocessed_digits.append(padded_digit)\n",
    "\n",
    "cv2.imshow(\"img\", img)\n",
    "cv2.imshow(\"threshInv\", threshInv)\n",
    "cv2.waitKey(0)\n",
    "cv2.destroyAllWindows()\n"
   ]
  },
  {
   "cell_type": "code",
   "execution_count": 5,
   "metadata": {},
   "outputs": [],
   "source": [
    "model_math = tf.keras.models.load_model(\"num_detect99.h5\")"
   ]
  },
  {
   "cell_type": "code",
   "execution_count": 31,
   "metadata": {},
   "outputs": [
    {
     "data": {
      "image/png": "[encoded data removed]",
      "text/plain": [
       "<Figure size 432x432 with 5 Axes>"
      ]
     },
     "metadata": {
      "needs_background": "light"
     },
     "output_type": "display_data"
    },
    {
     "name": "stdout",
     "output_type": "stream",
     "text": [
      "Result:  33\n"
     ]
    }
   ],
   "source": [
    "_, ax = plt.subplots(1, len(preprocessed_digits), figsize=(6,6))\n",
    "res = []\n",
    "\n",
    "for i in range (len(preprocessed_digits)):\n",
    "    \n",
    "    digit = preprocessed_digits[i]\n",
    "    prediction = model_math.predict(digit.reshape(1,32,32,1))\n",
    "    ax[i].imshow(digit, cmap ='gray')\n",
    "    ax[i].set_title(label(prediction))\n",
    "    ax[i].axis(\"off\")\n",
    "    res.append(label(prediction))\n",
    "    \n",
    "plt.show()\n",
    "print(\"Result: \", eval(\"\".join(res)))\n"
   ]
  },
  {
   "cell_type": "code",
   "execution_count": null,
   "metadata": {},
   "outputs": [],
   "source": []
  }
 ],
 "metadata": {
  "kernelspec": {
   "display_name": "Python [conda env:py3-TF2.0]",
   "language": "python",
   "name": "conda-env-py3-TF2.0-py"
  },
  "language_info": {
   "codemirror_mode": {
    "name": "ipython",
    "version": 3
   },
   "file_extension": ".py",
   "mimetype": "text/x-python",
   "name": "python",
   "nbconvert_exporter": "python",
   "pygments_lexer": "ipython3",
   "version": "3.8.2"
  }
 },
 "nbformat": 4,
 "nbformat_minor": 2
}
