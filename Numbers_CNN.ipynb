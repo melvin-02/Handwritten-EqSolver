{
  "nbformat": 4,
  "nbformat_minor": 0,
  "metadata": {
    "colab": {
      "name": "Numbers CNN.ipynb",
      "provenance": [],
      "collapsed_sections": [],
      "mount_file_id": "19DhHDbTICzLRGsRP3lP2fhIKeCjqKRau",
      "authorship_tag": "ABX9TyMeP8rX9vD2TAj1whyhxrhZ",
      "include_colab_link": true
    },
    "kernelspec": {
      "name": "python3",
      "display_name": "Python 3"
    },
    "accelerator": "GPU"
  },
  "cells": [
    {
      "cell_type": "markdown",
      "metadata": {
        "id": "view-in-github",
        "colab_type": "text"
      },
      "source": [
        "<a href=\"https://colab.research.google.com/github/melvin-02/Handwritten-EqSolver/blob/master/Numbers_CNN.ipynb\" target=\"_parent\"><img src=\"https://colab.research.google.com/assets/colab-badge.svg\" alt=\"Open In Colab\"/></a>"
      ]
    },
    {
      "cell_type": "code",
      "metadata": {
        "id": "5_g_siNBgmJj",
        "colab_type": "code",
        "colab": {}
      },
      "source": [
        "!unzip -q '/content/drive/My Drive/Colab Notebooks/Math/numbers.zip' "
      ],
      "execution_count": null,
      "outputs": []
    },
    {
      "cell_type": "code",
      "metadata": {
        "id": "47LxotxEhgyz",
        "colab_type": "code",
        "colab": {}
      },
      "source": [
        "import numpy as np\n",
        "import tensorflow as tf\n",
        "import cv2\n",
        "import os\n",
        "from glob import glob\n",
        "from google.colab.patches import cv2_imshow\n",
        "import matplotlib.pyplot as plt"
      ],
      "execution_count": null,
      "outputs": []
    },
    {
      "cell_type": "code",
      "metadata": {
        "id": "wIDwqeBniWIk",
        "colab_type": "code",
        "colab": {}
      },
      "source": [
        "from tensorflow.keras.layers import Input, Conv2D, MaxPool2D, Dense, Dropout, Flatten\n",
        "from tensorflow.keras.models import Model\n",
        "from tensorflow.keras.preprocessing.image import ImageDataGenerator"
      ],
      "execution_count": null,
      "outputs": []
    },
    {
      "cell_type": "code",
      "metadata": {
        "id": "S6c7F4Pfihdh",
        "colab_type": "code",
        "colab": {
          "base_uri": "https://localhost:8080/",
          "height": 34
        },
        "outputId": "8cd7e716-8bc1-46db-e5d3-063aa3f1a480"
      },
      "source": [
        "folder_path = \"/content/data/extracted_images\"\n",
        "files = glob(folder_path + '/*/*.jpg')\n",
        "print(len(files))"
      ],
      "execution_count": null,
      "outputs": [
        {
          "output_type": "stream",
          "text": [
            "47827\n"
          ],
          "name": "stdout"
        }
      ]
    },
    {
      "cell_type": "code",
      "metadata": {
        "id": "lR9NAhRAjevy",
        "colab_type": "code",
        "colab": {
          "base_uri": "https://localhost:8080/",
          "height": 62
        },
        "outputId": "3c99ee3f-ae1c-4149-84a5-ad0752dcd872"
      },
      "source": [
        "# randomly see any image\n",
        "img = cv2.imread(files[4001])\n",
        "cv2_imshow(img)\n"
      ],
      "execution_count": null,
      "outputs": [
        {
          "output_type": "display_data",
          "data": {
            "image/png": "[encoded data removed]",
            "text/plain": [
              "<PIL.Image.Image image mode=RGB size=45x45 at 0x7F2B747FA7B8>"
            ]
          },
          "metadata": {
            "tags": []
          }
        }
      ]
    },
    {
      "cell_type": "code",
      "metadata": {
        "id": "VqTDJkcmj1KU",
        "colab_type": "code",
        "colab": {}
      },
      "source": [
        "# build the CNN architecture for the model\n",
        "i = Input(shape=(32,32,1))\n",
        "x = Conv2D(32, (3,3), padding='same', activation='relu')(i)\n",
        "x = MaxPool2D((2,2))(x)\n",
        "x = Conv2D(32, (3,3), padding='same', activation='relu')(x)\n",
        "x = MaxPool2D((2,2))(x)\n",
        "x = Dropout(0.2)(x)\n",
        "x = Flatten()(x)\n",
        "x = Dense(128, activation='relu')(x)\n",
        "x = Dense(256, activation='relu')(x)\n",
        "x = Dense(14, activation='softmax')(x)\n",
        "\n",
        "model = Model(i,x)"
      ],
      "execution_count": null,
      "outputs": []
    },
    {
      "cell_type": "code",
      "metadata": {
        "id": "UYgr5M_9lJar",
        "colab_type": "code",
        "colab": {}
      },
      "source": [
        "gen = ImageDataGenerator(rescale=1/255.0)"
      ],
      "execution_count": null,
      "outputs": []
    },
    {
      "cell_type": "code",
      "metadata": {
        "id": "6bP2Go49lqb6",
        "colab_type": "code",
        "colab": {
          "base_uri": "https://localhost:8080/",
          "height": 34
        },
        "outputId": "eba867e8-56c0-490e-d34d-43940598c7e3"
      },
      "source": [
        "\n",
        "train_gen = gen.flow_from_directory(folder_path,\n",
        "                                    target_size = (32,32),\n",
        "                                    color_mode = 'grayscale',\n",
        "                                    class_mode = 'categorical',\n",
        "                                    batch_size= 64,\n",
        "                                    shuffle=True)"
      ],
      "execution_count": null,
      "outputs": [
        {
          "output_type": "stream",
          "text": [
            "Found 47827 images belonging to 14 classes.\n"
          ],
          "name": "stdout"
        }
      ]
    },
    {
      "cell_type": "code",
      "metadata": {
        "id": "M3FkAHF9mD78",
        "colab_type": "code",
        "colab": {
          "base_uri": "https://localhost:8080/",
          "height": 428
        },
        "outputId": "f5d32680-5165-4f41-9eea-85ea8c428774"
      },
      "source": [
        "model.compile(optimizer='adam', loss='categorical_crossentropy', metrics=['accuracy'])\n",
        "\n",
        "r = model.fit_generator(train_gen,\n",
        "                        steps_per_epoch = len(train_gen.filenames)//64,\n",
        "                        epochs = 10,\n",
        "                        )"
      ],
      "execution_count": null,
      "outputs": [
        {
          "output_type": "stream",
          "text": [
            "WARNING:tensorflow:From <ipython-input-18-f345613e1094>:5: Model.fit_generator (from tensorflow.python.keras.engine.training) is deprecated and will be removed in a future version.\n",
            "Instructions for updating:\n",
            "Please use Model.fit, which supports generators.\n",
            "Epoch 1/10\n",
            "747/747 [==============================] - 12s 16ms/step - loss: 0.4981 - accuracy: 0.8470\n",
            "Epoch 2/10\n",
            "747/747 [==============================] - 12s 16ms/step - loss: 0.1278 - accuracy: 0.9615\n",
            "Epoch 3/10\n",
            "747/747 [==============================] - 12s 16ms/step - loss: 0.0794 - accuracy: 0.9759\n",
            "Epoch 4/10\n",
            "747/747 [==============================] - 12s 16ms/step - loss: 0.0603 - accuracy: 0.9825\n",
            "Epoch 5/10\n",
            "747/747 [==============================] - 12s 16ms/step - loss: 0.0466 - accuracy: 0.9862\n",
            "Epoch 6/10\n",
            "747/747 [==============================] - 12s 16ms/step - loss: 0.0415 - accuracy: 0.9877\n",
            "Epoch 7/10\n",
            "747/747 [==============================] - 12s 16ms/step - loss: 0.0344 - accuracy: 0.9894\n",
            "Epoch 8/10\n",
            "747/747 [==============================] - 12s 16ms/step - loss: 0.0334 - accuracy: 0.9899\n",
            "Epoch 9/10\n",
            "747/747 [==============================] - 12s 15ms/step - loss: 0.0299 - accuracy: 0.9909\n",
            "Epoch 10/10\n",
            "747/747 [==============================] - 12s 16ms/step - loss: 0.0262 - accuracy: 0.9919\n"
          ],
          "name": "stdout"
        }
      ]
    },
    {
      "cell_type": "code",
      "metadata": {
        "id": "esGU_C8gnbTL",
        "colab_type": "code",
        "colab": {}
      },
      "source": [
        "model.save(\"num_detect99.h5\")"
      ],
      "execution_count": null,
      "outputs": []
    },
    {
      "cell_type": "code",
      "metadata": {
        "id": "cmXTrV73oNQj",
        "colab_type": "code",
        "colab": {
          "base_uri": "https://localhost:8080/",
          "height": 255
        },
        "outputId": "af86487a-b4d1-46f6-c158-2b3f730df97c"
      },
      "source": [
        "train_gen.class_indices"
      ],
      "execution_count": null,
      "outputs": [
        {
          "output_type": "execute_result",
          "data": {
            "text/plain": [
              "{'+': 0,\n",
              " '-': 1,\n",
              " '0': 2,\n",
              " '1': 3,\n",
              " '2': 4,\n",
              " '3': 5,\n",
              " '4': 6,\n",
              " '5': 7,\n",
              " '6': 8,\n",
              " '7': 9,\n",
              " '8': 10,\n",
              " '9': 11,\n",
              " 'forward_slash': 12,\n",
              " 'times': 13}"
            ]
          },
          "metadata": {
            "tags": []
          },
          "execution_count": 24
        }
      ]
    },
    {
      "cell_type": "code",
      "metadata": {
        "id": "xN1LTU_UoT--",
        "colab_type": "code",
        "colab": {}
      },
      "source": [
        ""
      ],
      "execution_count": null,
      "outputs": []
    }
  ]
}